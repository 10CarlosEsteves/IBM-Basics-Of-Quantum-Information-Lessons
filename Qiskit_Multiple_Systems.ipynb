{
  "nbformat": 4,
  "nbformat_minor": 0,
  "metadata": {
    "colab": {
      "provenance": []
    },
    "kernelspec": {
      "name": "python3",
      "display_name": "Python 3"
    },
    "language_info": {
      "name": "python"
    }
  },
  "cells": [
    {
      "cell_type": "markdown",
      "source": [
        "**Install the Qiskit library**\n",
        "\n",
        "Qiskit is not a built-in library of python. It should be installed before you use the qiskit tools"
      ],
      "metadata": {
        "id": "VIJBiWs-nOZk"
      }
    },
    {
      "cell_type": "code",
      "execution_count": 1,
      "metadata": {
        "colab": {
          "base_uri": "https://localhost:8080/"
        },
        "id": "qwvz4qIsnGDj",
        "outputId": "d33ae5d5-52e4-4727-ea1b-f42cafe63e59"
      },
      "outputs": [
        {
          "output_type": "stream",
          "name": "stdout",
          "text": [
            "Collecting qiskit\n",
            "  Downloading qiskit-1.1.1-cp38-abi3-manylinux_2_17_x86_64.manylinux2014_x86_64.whl (4.3 MB)\n",
            "\u001b[2K     \u001b[90m━━━━━━━━━━━━━━━━━━━━━━━━━━━━━━━━━━━━━━━━\u001b[0m \u001b[32m4.3/4.3 MB\u001b[0m \u001b[31m10.5 MB/s\u001b[0m eta \u001b[36m0:00:00\u001b[0m\n",
            "\u001b[?25hCollecting rustworkx>=0.14.0 (from qiskit)\n",
            "  Downloading rustworkx-0.15.1-cp38-abi3-manylinux_2_17_x86_64.manylinux2014_x86_64.whl (2.0 MB)\n",
            "\u001b[2K     \u001b[90m━━━━━━━━━━━━━━━━━━━━━━━━━━━━━━━━━━━━━━━━\u001b[0m \u001b[32m2.0/2.0 MB\u001b[0m \u001b[31m30.7 MB/s\u001b[0m eta \u001b[36m0:00:00\u001b[0m\n",
            "\u001b[?25hRequirement already satisfied: numpy<3,>=1.17 in /usr/local/lib/python3.10/dist-packages (from qiskit) (1.25.2)\n",
            "Requirement already satisfied: scipy>=1.5 in /usr/local/lib/python3.10/dist-packages (from qiskit) (1.11.4)\n",
            "Requirement already satisfied: sympy>=1.3 in /usr/local/lib/python3.10/dist-packages (from qiskit) (1.12.1)\n",
            "Collecting dill>=0.3 (from qiskit)\n",
            "  Downloading dill-0.3.8-py3-none-any.whl (116 kB)\n",
            "\u001b[2K     \u001b[90m━━━━━━━━━━━━━━━━━━━━━━━━━━━━━━━━━━━━━━━━\u001b[0m \u001b[32m116.3/116.3 kB\u001b[0m \u001b[31m9.4 MB/s\u001b[0m eta \u001b[36m0:00:00\u001b[0m\n",
            "\u001b[?25hRequirement already satisfied: python-dateutil>=2.8.0 in /usr/local/lib/python3.10/dist-packages (from qiskit) (2.8.2)\n",
            "Collecting stevedore>=3.0.0 (from qiskit)\n",
            "  Downloading stevedore-5.2.0-py3-none-any.whl (49 kB)\n",
            "\u001b[2K     \u001b[90m━━━━━━━━━━━━━━━━━━━━━━━━━━━━━━━━━━━━━━━━\u001b[0m \u001b[32m49.7/49.7 kB\u001b[0m \u001b[31m4.4 MB/s\u001b[0m eta \u001b[36m0:00:00\u001b[0m\n",
            "\u001b[?25hRequirement already satisfied: typing-extensions in /usr/local/lib/python3.10/dist-packages (from qiskit) (4.12.2)\n",
            "Collecting symengine>=0.11 (from qiskit)\n",
            "  Downloading symengine-0.11.0-cp310-cp310-manylinux_2_12_x86_64.manylinux2010_x86_64.whl (39.4 MB)\n",
            "\u001b[2K     \u001b[90m━━━━━━━━━━━━━━━━━━━━━━━━━━━━━━━━━━━━━━━━\u001b[0m \u001b[32m39.4/39.4 MB\u001b[0m \u001b[31m16.1 MB/s\u001b[0m eta \u001b[36m0:00:00\u001b[0m\n",
            "\u001b[?25hRequirement already satisfied: six>=1.5 in /usr/local/lib/python3.10/dist-packages (from python-dateutil>=2.8.0->qiskit) (1.16.0)\n",
            "Collecting pbr!=2.1.0,>=2.0.0 (from stevedore>=3.0.0->qiskit)\n",
            "  Downloading pbr-6.0.0-py2.py3-none-any.whl (107 kB)\n",
            "\u001b[2K     \u001b[90m━━━━━━━━━━━━━━━━━━━━━━━━━━━━━━━━━━━━━━━━\u001b[0m \u001b[32m107.5/107.5 kB\u001b[0m \u001b[31m7.2 MB/s\u001b[0m eta \u001b[36m0:00:00\u001b[0m\n",
            "\u001b[?25hRequirement already satisfied: mpmath<1.4.0,>=1.1.0 in /usr/local/lib/python3.10/dist-packages (from sympy>=1.3->qiskit) (1.3.0)\n",
            "Installing collected packages: symengine, rustworkx, pbr, dill, stevedore, qiskit\n",
            "Successfully installed dill-0.3.8 pbr-6.0.0 qiskit-1.1.1 rustworkx-0.15.1 stevedore-5.2.0 symengine-0.11.0\n"
          ]
        }
      ],
      "source": [
        "pip install qiskit"
      ]
    },
    {
      "cell_type": "code",
      "source": [
        "from qiskit.quantum_info import Statevector, Operator\n",
        "from numpy import sqrt"
      ],
      "metadata": {
        "id": "I6zuoSNarrer"
      },
      "execution_count": 2,
      "outputs": []
    },
    {
      "cell_type": "markdown",
      "source": [
        "**1º New Method and Tensor product:**\n",
        "\n",
        "We have discussed earlier in the Single Systems that the class *Statevector* is used for create qubit state vectors. There is a method in the *Statevector*, called *from_label()* which allow us to work as short cut to create the classical state vectors.\n",
        "\n",
        "The following strings works as paramethers in the *from_label()* method:\n",
        "\n",
        "\n",
        "1.   \"0\" Creates the |0⟩\n",
        "2.   \"1\" Creates the |1⟩\n",
        "3.   \"+\" Creates the |+⟩\n",
        "4.   \"-\" Creates the |-⟩\n",
        "5.   \"r\" Creates the |i⟩\n",
        "6.   \"l\" Creates the |-i⟩\n",
        "\n",
        "The method *tensor()* allow us to perform a tensor product between vectors. In the cell bellow we perform a tensor product between |0⟩ and |1⟩. In the second cell, we perform not a standard basis tensor product but a tensor product between 2 superposition qubits\n",
        "\n",
        "\n"
      ],
      "metadata": {
        "id": "nhXe1LMjBtCu"
      }
    },
    {
      "cell_type": "code",
      "source": [
        "zero, one = Statevector.from_label(\"0\"), Statevector.from_label(\"1\")\n",
        "zero.tensor(one).draw(\"latex\")"
      ],
      "metadata": {
        "colab": {
          "base_uri": "https://localhost:8080/",
          "height": 37
        },
        "id": "rEvfWvEatiGy",
        "outputId": "58c1caf8-f6ad-4b8c-db3f-c64d65b33acf"
      },
      "execution_count": 3,
      "outputs": [
        {
          "output_type": "execute_result",
          "data": {
            "text/plain": [
              "<IPython.core.display.Latex object>"
            ],
            "text/latex": "$$ |01\\rangle$$"
          },
          "metadata": {},
          "execution_count": 3
        }
      ]
    },
    {
      "cell_type": "code",
      "source": [
        "plus = Statevector.from_label(\"+\")\n",
        "i_state = Statevector([1 / sqrt(2), 1j / sqrt(2)])\n",
        "psi = plus.tensor(i_state)\n",
        "\n",
        "psi.draw(\"latex\")"
      ],
      "metadata": {
        "colab": {
          "base_uri": "https://localhost:8080/",
          "height": 38
        },
        "id": "svchgSLpvPfp",
        "outputId": "5ea63b62-e4e6-4264-a152-334e10969a7f"
      },
      "execution_count": 7,
      "outputs": [
        {
          "output_type": "execute_result",
          "data": {
            "text/plain": [
              "<IPython.core.display.Latex object>"
            ],
            "text/latex": "$$\\frac{1}{2} |00\\rangle+\\frac{i}{2} |01\\rangle+\\frac{1}{2} |10\\rangle+\\frac{i}{2} |11\\rangle$$"
          },
          "metadata": {},
          "execution_count": 7
        }
      ]
    },
    {
      "cell_type": "markdown",
      "source": [
        "**2º Tensor product between matrices:**\n",
        "\n",
        "Matrices also have a *tensor()* method which can be used for calculating tensor product between matrices."
      ],
      "metadata": {
        "id": "G0tZQJO3F3vh"
      }
    },
    {
      "cell_type": "code",
      "source": [
        "X = Operator([[0, 1], [1, 0]])\n",
        "I = Operator([[1, 0], [0, 1]])\n",
        "\n",
        "XI = X.tensor(I)\n",
        "\n",
        "XI.draw(\"latex\")"
      ],
      "metadata": {
        "colab": {
          "base_uri": "https://localhost:8080/",
          "height": 98
        },
        "id": "NZdQbCW4v1Pu",
        "outputId": "bcd2e507-3b46-4daa-e8f6-1d346c540fb0"
      },
      "execution_count": 45,
      "outputs": [
        {
          "output_type": "execute_result",
          "data": {
            "text/plain": [
              "<IPython.core.display.Latex object>"
            ],
            "text/latex": "$$\n\n\\begin{bmatrix}\n0 & 0 & 1 & 0  \\\\\n 0 & 0 & 0 & 1  \\\\\n 1 & 0 & 0 & 0  \\\\\n 0 & 1 & 0 & 0  \\\\\n \\end{bmatrix}\n$$"
          },
          "metadata": {},
          "execution_count": 45
        }
      ]
    },
    {
      "cell_type": "markdown",
      "source": [
        "**3º Alternative method for tensor product between matrices:**\n",
        "\n",
        "There is a alternative method for calculating tensor product between matrices. The \"^\" play a similar role as the *tensor()* method"
      ],
      "metadata": {
        "id": "-I60hTSBGPVV"
      }
    },
    {
      "cell_type": "code",
      "source": [
        "psi.evolve(X ^ I).draw(\"latex\")"
      ],
      "metadata": {
        "colab": {
          "base_uri": "https://localhost:8080/",
          "height": 38
        },
        "id": "ntZpRqC55c_1",
        "outputId": "9789b01d-4d14-4bcd-832f-858aa0fa5a06"
      },
      "execution_count": 47,
      "outputs": [
        {
          "output_type": "execute_result",
          "data": {
            "text/plain": [
              "<IPython.core.display.Latex object>"
            ],
            "text/latex": "$$\\frac{1}{2} |00\\rangle+\\frac{i}{2} |01\\rangle+\\frac{1}{2} |10\\rangle+\\frac{i}{2} |11\\rangle$$"
          },
          "metadata": {},
          "execution_count": 47
        }
      ]
    },
    {
      "cell_type": "markdown",
      "source": [
        "**4º Creating manually a operator:**\n",
        "\n",
        "Without the tensor product, we can manually create a operator that acts on 2 qubits compound system."
      ],
      "metadata": {
        "id": "EAtTvPscHKiY"
      }
    },
    {
      "cell_type": "code",
      "source": [
        "CX = Operator(\n",
        "    [\n",
        "        [1, 0, 0, 0],\n",
        "        [0, 1, 0, 0],\n",
        "        [0, 0, 0, 1],\n",
        "        [0, 0, 1, 0],\n",
        "    ]\n",
        ")\n",
        "\n",
        "psi.evolve(CX).draw(\"latex\")"
      ],
      "metadata": {
        "colab": {
          "base_uri": "https://localhost:8080/",
          "height": 38
        },
        "id": "UxS7XcdL7sb9",
        "outputId": "9dcbb1b2-8a89-4b1b-fc47-0a339ee7ceec"
      },
      "execution_count": 48,
      "outputs": [
        {
          "output_type": "execute_result",
          "data": {
            "text/plain": [
              "<IPython.core.display.Latex object>"
            ],
            "text/latex": "$$\\frac{1}{2} |00\\rangle+\\frac{i}{2} |01\\rangle+\\frac{i}{2} |10\\rangle+\\frac{1}{2} |11\\rangle$$"
          },
          "metadata": {},
          "execution_count": 48
        }
      ]
    },
    {
      "cell_type": "markdown",
      "source": [
        "**5º Alternative way to create a compound system qubit vector:**\n",
        "\n",
        "if we want to create a vector that is represented by n qubits, then we should create a vector with 2ⁿ elements. This vector is illustrated bellow:  "
      ],
      "metadata": {
        "id": "Vz9sqx-gHcXK"
      }
    },
    {
      "cell_type": "code",
      "source": [
        "W = Statevector([0, 1, 1, 0, 1, 0, 0, 0] / sqrt(3))\n",
        "W.draw(\"latex\")"
      ],
      "metadata": {
        "colab": {
          "base_uri": "https://localhost:8080/",
          "height": 40
        },
        "id": "I9Tb2i8P9dol",
        "outputId": "514c5bcb-f1db-4c22-f0f0-14486b64960f"
      },
      "execution_count": 49,
      "outputs": [
        {
          "output_type": "execute_result",
          "data": {
            "text/plain": [
              "<IPython.core.display.Latex object>"
            ],
            "text/latex": "$$\\frac{\\sqrt{3}}{3} |001\\rangle+\\frac{\\sqrt{3}}{3} |010\\rangle+\\frac{\\sqrt{3}}{3} |100\\rangle$$"
          },
          "metadata": {},
          "execution_count": 49
        }
      ]
    },
    {
      "cell_type": "markdown",
      "source": [
        "**6º Measuring individual qubits from compound systems: **\n",
        "\n",
        "Given a compound system(in our case we'll use the W system), if we use the *measure()* method in one of the qubits, then we must receive a result of measuring a qubit and a new vector with the adjusted probabilities of the result after measuring the qubit.\n",
        "\n",
        "In the cell bellow, we measure the qubit 0(from the right to left). We could have measured the 1 or the 2 qubit, be we measured the 0 qubit. If the measurement result is 0 for the first bit, then we have the following both states with probability of 50%:"
      ],
      "metadata": {
        "id": "SAdt7OWsJqnK"
      }
    },
    {
      "cell_type": "code",
      "source": [
        "result, new_sv = W.measure([0])  # measure qubit 0\n",
        "print(f\"Measured: {result}\\nState after measurement:\")\n",
        "new_sv.draw(\"latex\")"
      ],
      "metadata": {
        "colab": {
          "base_uri": "https://localhost:8080/",
          "height": 75
        },
        "id": "h9bXRwE493st",
        "outputId": "4926f831-eb27-4c87-c3f7-881428ff30ce"
      },
      "execution_count": 59,
      "outputs": [
        {
          "output_type": "stream",
          "name": "stdout",
          "text": [
            "Measured: 0\n",
            "State after measurement:\n"
          ]
        },
        {
          "output_type": "execute_result",
          "data": {
            "text/plain": [
              "<IPython.core.display.Latex object>"
            ],
            "text/latex": "$$\\frac{\\sqrt{2}}{2} |010\\rangle+\\frac{\\sqrt{2}}{2} |100\\rangle$$"
          },
          "metadata": {},
          "execution_count": 59
        }
      ]
    }
  ]
}